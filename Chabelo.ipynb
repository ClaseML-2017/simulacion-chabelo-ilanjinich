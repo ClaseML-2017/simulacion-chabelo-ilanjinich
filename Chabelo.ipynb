{
 "cells": [
  {
   "cell_type": "markdown",
   "metadata": {},
   "source": [
    "#Chavelo\n",
    "\n",
    "1.three doors, 1 is the winning door, 1 is chosen by the contestant\n",
    "\n",
    "2.Chabelo opens the door thay is not the winning door or the one chosen by the contestant.\n",
    "\n",
    "3.the contestant chooses wheter to switch doors or not\n",
    "\n",
    "Create a simulation and compare the win rate if the contestant switches doors or not.\n",
    "\n",
    "import random as rand\n",
    "rand.randint(firstNumber,seconNumber) where \n",
    "firstNumber <=rand <= secondNumber\n",
    "rand.choice(array)"
   ]
  },
  {
   "cell_type": "code",
   "execution_count": 2,
   "metadata": {
    "collapsed": false
   },
   "outputs": [
    {
     "data": {
      "text/plain": [
       "[1, 2, 3]"
      ]
     },
     "execution_count": 2,
     "metadata": {},
     "output_type": "execute_result"
    }
   ],
   "source": [
    "import random as rand\n",
    "doors=[i for i in range(1,4)]\n",
    "doors"
   ]
  },
  {
   "cell_type": "code",
   "execution_count": 3,
   "metadata": {
    "collapsed": false
   },
   "outputs": [
    {
     "data": {
      "text/plain": [
       "1"
      ]
     },
     "execution_count": 3,
     "metadata": {},
     "output_type": "execute_result"
    }
   ],
   "source": [
    "chosenDoor=1 #We can suppose that the contestant picks the same door every time without loss of generality\n",
    "chosenDoor"
   ]
  },
  {
   "cell_type": "code",
   "execution_count": 4,
   "metadata": {
    "collapsed": false
   },
   "outputs": [
    {
     "name": "stdout",
     "output_type": "stream",
     "text": [
      "0.666762\n"
     ]
    }
   ],
   "source": [
    "j=0.0\n",
    "n=10**6\n",
    "\n",
    "\n",
    "for i in range(1, n):\n",
    "    winningDoor=rand.randint(1,3)\n",
    "    if (winningDoor==2): \n",
    "        alternativeDoor=2\n",
    "    else: \n",
    "        alternativeDoor=3\n",
    "        \n",
    "    if(alternativeDoor==winningDoor): \n",
    "        j=j+1\n",
    "        #print j\n",
    "        \n",
    "    #print alternativeDoor,winningDoor\n",
    "#print j\n",
    "#print n\n",
    "print (j/n)"
   ]
  },
  {
   "cell_type": "code",
   "execution_count": null,
   "metadata": {
    "collapsed": true
   },
   "outputs": [],
   "source": []
  },
  {
   "cell_type": "code",
   "execution_count": null,
   "metadata": {
    "collapsed": true
   },
   "outputs": [],
   "source": []
  }
 ],
 "metadata": {
  "kernelspec": {
   "display_name": "Python 2",
   "language": "python",
   "name": "python2"
  },
  "language_info": {
   "codemirror_mode": {
    "name": "ipython",
    "version": 2
   },
   "file_extension": ".py",
   "mimetype": "text/x-python",
   "name": "python",
   "nbconvert_exporter": "python",
   "pygments_lexer": "ipython2",
   "version": "2.7.10"
  }
 },
 "nbformat": 4,
 "nbformat_minor": 0
}
